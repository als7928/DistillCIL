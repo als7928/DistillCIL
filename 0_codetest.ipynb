{
 "cells": [
  {
   "cell_type": "code",
   "execution_count": 184,
   "metadata": {},
   "outputs": [
    {
     "name": "stdout",
     "output_type": "stream",
     "text": [
      "[]\n"
     ]
    }
   ],
   "source": [
    "import os\n",
    "import torch\n",
    "import glob\n",
    "\n",
    "args={}\n",
    "args[\"pretrained\"]=True\n",
    "\n",
    "pretrained = \"teacher_task{}\"\n",
    "\n",
    "\n",
    "if args[\"pretrained\"]==True:\n",
    "    output = glob.glob(\"pretrained/set_4276035891/*_task*_epoch{}*\".format(200))\n",
    "    print(output)"
   ]
  },
  {
   "cell_type": "code",
   "execution_count": 185,
   "metadata": {},
   "outputs": [],
   "source": [
    "def cosine_similarity(a, b, eps=1e-8):\n",
    "    return (a * b).sum(1) / (a.norm(dim=1) * b.norm(dim=1) + eps)\n",
    "\n",
    "\n",
    "def pearson_correlation(a, b, eps=1e-8):\n",
    "    return cosine_similarity(a - a.mean(1).unsqueeze(1),\n",
    "                             b - b.mean(1).unsqueeze(1), eps)\n",
    "\n",
    "\n",
    "def inter_class_relation(y_s, y_t):\n",
    "    return 1 - pearson_correlation(y_s, y_t).mean()\n",
    "\n",
    "\n",
    "def intra_class_relation(y_s, y_t):\n",
    "    return inter_class_relation(y_s.transpose(0, 1), y_t.transpose(0, 1))"
   ]
  },
  {
   "cell_type": "code",
   "execution_count": 186,
   "metadata": {},
   "outputs": [
    {
     "name": "stdout",
     "output_type": "stream",
     "text": [
      "tensor([[0.0000, 0.1000, 0.2000, 0.3000],\n",
      "        [0.0000, 0.1000, 0.2000, 0.3000]])\n",
      "tensor([[0.0000, 0.1000, 0.2000, 0.3000],\n",
      "        [0.0000, 0.1000, 0.2000, 0.3000]])\n",
      "tensor(2.3842e-07) tensor(1.)\n"
     ]
    }
   ],
   "source": [
    "import torch\n",
    "\n",
    "x = torch.tensor([[0.0,0.1,0.2,0.3],[0.0,0.1,0.2,0.3]])\n",
    "y = torch.tensor([[0.0,0.1,0.2,0.3],[0.0,0.1,0.2,0.3]])\n",
    "print(x)\n",
    "print(y)\n",
    "a=inter_class_relation(x,y)\n",
    "b=intra_class_relation(x,y)\n",
    "print(a,b)"
   ]
  },
  {
   "cell_type": "code",
   "execution_count": 187,
   "metadata": {},
   "outputs": [
    {
     "data": {
      "text/plain": [
       "torch.Size([128, 4])"
      ]
     },
     "execution_count": 187,
     "metadata": {},
     "output_type": "execute_result"
    }
   ],
   "source": [
    "x  = torch.randn([128,2])\n",
    "y = torch.randn([128,2])\n",
    "\n",
    "xy = torch.cat([x,y], dim=1)\n",
    "\n",
    "xy.shape"
   ]
  }
 ],
 "metadata": {
  "kernelspec": {
   "display_name": "CL",
   "language": "python",
   "name": "python3"
  },
  "language_info": {
   "codemirror_mode": {
    "name": "ipython",
    "version": 3
   },
   "file_extension": ".py",
   "mimetype": "text/x-python",
   "name": "python",
   "nbconvert_exporter": "python",
   "pygments_lexer": "ipython3",
   "version": "3.8.19"
  }
 },
 "nbformat": 4,
 "nbformat_minor": 2
}
