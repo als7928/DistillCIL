{
 "cells": [
  {
   "cell_type": "code",
   "execution_count": 14,
   "metadata": {},
   "outputs": [
    {
     "name": "stdout",
     "output_type": "stream",
     "text": [
      "torch.Size([5])\n",
      "torch.Size([5, 4])\n",
      "tensor([[-0.5535, -0.6662, -0.1914,  0.5350],\n",
      "        [-0.3615, -0.6567, -0.0224,  0.5146],\n",
      "        [-0.8029, -0.5689, -0.3258,  0.6984],\n",
      "        [-0.9329, -0.4614, -0.4964,  0.8099],\n",
      "        [-1.0794, -0.6220, -0.7531,  0.9719]])\n",
      "tensor([[-0.9329, -0.4614, -0.4964,  0.8099],\n",
      "        [-1.0794, -0.6220, -0.7531,  0.9719]])\n",
      "tensor([[-0.5535, -0.6662, -0.1914,  0.5350],\n",
      "        [-0.3615, -0.6567, -0.0224,  0.5146],\n",
      "        [-0.8029, -0.5689, -0.3258,  0.6984]])\n",
      "tensor([[-0.5535, -0.6662, -0.1914,  0.5350],\n",
      "        [-0.3615, -0.6567, -0.0224,  0.5146],\n",
      "        [-0.8029, -0.5689, -0.3258,  0.6984]])\n"
     ]
    }
   ],
   "source": [
    "import torch\n",
    "\n",
    "known_classes = 2 \n",
    "\n",
    "targets = torch.tensor([2,2,3,1,0])\n",
    "logits = torch.tensor([[-0.5535, -0.6662, -0.1914,  0.5350],\n",
    "        [-0.3615, -0.6567, -0.0224,  0.5146],\n",
    "        [-0.8029, -0.5689, -0.3258,  0.6984],\n",
    "        [-0.9329, -0.4614, -0.4964,  0.8099],\n",
    "        [-1.0794, -0.6220, -0.7531,  0.9719]])\n",
    "\n",
    "print(targets.shape)\n",
    "print(logits.shape)\n",
    "mask = targets < known_classes\n",
    "print(logits)\n",
    "print(logits[mask])\n",
    "print(logits[~mask])\n",
    "\n",
    "print(logits[:3])\n"
   ]
  }
 ],
 "metadata": {
  "kernelspec": {
   "display_name": "CL",
   "language": "python",
   "name": "python3"
  },
  "language_info": {
   "codemirror_mode": {
    "name": "ipython",
    "version": 3
   },
   "file_extension": ".py",
   "mimetype": "text/x-python",
   "name": "python",
   "nbconvert_exporter": "python",
   "pygments_lexer": "ipython3",
   "version": "3.8.19"
  }
 },
 "nbformat": 4,
 "nbformat_minor": 2
}
