{
 "cells": [
  {
   "cell_type": "code",
   "execution_count": 2,
   "metadata": {},
   "outputs": [
    {
     "name": "stdout",
     "output_type": "stream",
     "text": [
      "torch.Size([5])\n",
      "torch.Size([5, 4])\n",
      "tensor([[-0.5535, -0.6662, -0.1914,  0.5350],\n",
      "        [-0.3615, -0.6567, -0.0224,  0.5146],\n",
      "        [-0.8029, -0.5689, -0.3258,  0.6984],\n",
      "        [-0.9329, -0.4614, -0.4964,  0.8099],\n",
      "        [-1.0794, -0.6220, -0.7531,  0.9719]])\n",
      "tensor([[-0.9329, -0.4614, -0.4964,  0.8099],\n",
      "        [-1.0794, -0.6220, -0.7531,  0.9719]])\n",
      "tensor([[-0.5535, -0.6662, -0.1914,  0.5350],\n",
      "        [-0.3615, -0.6567, -0.0224,  0.5146],\n",
      "        [-0.8029, -0.5689, -0.3258,  0.6984]])\n",
      "tensor([[-0.5535, -0.6662, -0.1914,  0.5350],\n",
      "        [-0.3615, -0.6567, -0.0224,  0.5146],\n",
      "        [-0.8029, -0.5689, -0.3258,  0.6984]])\n"
     ]
    }
   ],
   "source": [
    "import torch\n",
    "\n",
    "known_classes = 2 \n",
    "\n",
    "targets = torch.tensor([2,2,3,1,0])\n",
    "logits = torch.tensor([[-0.5535, -0.6662, -0.1914,  0.5350],\n",
    "        [-0.3615, -0.6567, -0.0224,  0.5146],\n",
    "        [-0.8029, -0.5689, -0.3258,  0.6984],\n",
    "        [-0.9329, -0.4614, -0.4964,  0.8099],\n",
    "        [-1.0794, -0.6220, -0.7531,  0.9719]])\n",
    "\n",
    "print(targets.shape)\n",
    "print(logits.shape)\n",
    "mask = targets < known_classes\n",
    "print(logits)\n",
    "print(logits[mask])\n",
    "print(logits[~mask])\n",
    "\n",
    "print(logits[:3])\n",
    "\n",
    "targets= torch.tensor([2,2,3,1,0,1,2,3,1,2,3])"
   ]
  },
  {
   "cell_type": "code",
   "execution_count": 14,
   "metadata": {},
   "outputs": [
    {
     "name": "stdout",
     "output_type": "stream",
     "text": [
      "tensor([False, False, False,  True,  True])\n",
      "tensor([0, 0, 0, 1, 1, 0, 0, 0, 0, 0, 0])\n"
     ]
    }
   ],
   "source": [
    "\n",
    "a  = torch.zeros_like(targets)\n",
    "print(mask)\n",
    "a[:mask.shape[0]] = mask\n",
    "mask=a\n",
    "print(mask)\n"
   ]
  },
  {
   "cell_type": "code",
   "execution_count": 20,
   "metadata": {},
   "outputs": [
    {
     "data": {
      "text/plain": [
       "torch.Size([3])"
      ]
     },
     "execution_count": 20,
     "metadata": {},
     "output_type": "execute_result"
    }
   ],
   "source": [
    "torch.zeros(size=(3,1)).squeeze(1).shape"
   ]
  }
 ],
 "metadata": {
  "kernelspec": {
   "display_name": "CL",
   "language": "python",
   "name": "python3"
  },
  "language_info": {
   "codemirror_mode": {
    "name": "ipython",
    "version": 3
   },
   "file_extension": ".py",
   "mimetype": "text/x-python",
   "name": "python",
   "nbconvert_exporter": "python",
   "pygments_lexer": "ipython3",
   "version": "3.8.19"
  }
 },
 "nbformat": 4,
 "nbformat_minor": 2
}
