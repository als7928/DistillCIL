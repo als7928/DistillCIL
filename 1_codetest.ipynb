{
 "cells": [
  {
   "cell_type": "code",
   "execution_count": 16,
   "metadata": {},
   "outputs": [
    {
     "name": "stdout",
     "output_type": "stream",
     "text": [
      "tensor([[0., 1.],\n",
      "        [0., 1.]])\n",
      "tensor([3.1623e-06, 1.0000e+00])\n",
      "tensor(0.0500)\n"
     ]
    }
   ],
   "source": [
    "import torch\n",
    "import torch.nn.functional as F\n",
    "a=torch.tensor([[0,1,0,0,1,1,0,0,1,0],[0,1,0,0,1,1,0,0,1,0]], dtype=torch.float)\n",
    "b=torch.tensor([[0,1,0,0,1,1,0,0,1,0],[0,1,0,0,1,1,0,0,1,1]], dtype=torch.float)\n",
    "\n",
    "print(torch.cdist(a,b))\n",
    "print(F.pairwise_distance(a,b))\n",
    "print(F.mse_loss(a,b))"
   ]
  }
 ],
 "metadata": {
  "kernelspec": {
   "display_name": "CL",
   "language": "python",
   "name": "python3"
  },
  "language_info": {
   "name": "python",
   "version": "3.8.19"
  }
 },
 "nbformat": 4,
 "nbformat_minor": 2
}
